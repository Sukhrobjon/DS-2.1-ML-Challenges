{
 "cells": [
  {
   "cell_type": "code",
   "execution_count": null,
   "metadata": {},
   "outputs": [],
   "source": [
    "# Quiz: A two dimensional array (Matrix) X is given, write a function that:\n",
    "\n",
    "# - Subtract the minimum element of each column from all the elements of that column\n",
    "\n",
    "# - Then devide the result to the range of value for each column\n",
    "\n",
    "# Hint: range is the difference between the maximum element and minimum element of each column"
   ]
  },
  {
   "cell_type": "code",
   "execution_count": 1,
   "metadata": {},
   "outputs": [],
   "source": [
    "from numpy.linalg import inv \n",
    "import numpy as np\n",
    "\n",
    "# matrix = [[1000, 53], \n",
    "#           [2343, 34], \n",
    "#           [432432, 32], \n",
    "#           [489320, 43], \n",
    "#           [4334, 32], \n",
    "#           [43, 64]]\n",
    "\n",
    "X = np.array([[1000.0, 2.0], \n",
    "              [1500.0, 3.0]])"
   ]
  },
  {
   "cell_type": "code",
   "execution_count": null,
   "metadata": {},
   "outputs": [],
   "source": [
    "def normalize_matrix(matrix):\n",
    "    column_one_min = 1000.0\n",
    "    column_one_max = 1500.0\n",
    "    column_two_min = 2.0\n",
    "    column_two_max = 3.0\n",
    "    \n",
    "    range_one = column_one_max - column_one_min\n",
    "    range_two = column_two_max - column_two_min\n",
    "    x_normalized = [[]]\n",
    "    i = 0\n",
    "    \n",
    "    "
   ]
  }
 ],
 "metadata": {
  "kernelspec": {
   "display_name": "Python 3",
   "language": "python",
   "name": "python3"
  },
  "language_info": {
   "codemirror_mode": {
    "name": "ipython",
    "version": 3
   },
   "file_extension": ".py",
   "mimetype": "text/x-python",
   "name": "python",
   "nbconvert_exporter": "python",
   "pygments_lexer": "ipython3",
   "version": "3.7.1"
  }
 },
 "nbformat": 4,
 "nbformat_minor": 2
}
