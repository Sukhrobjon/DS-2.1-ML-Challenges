{
 "cells": [
  {
   "cell_type": "code",
   "execution_count": 18,
   "metadata": {},
   "outputs": [],
   "source": [
    "import pandas as pd\n",
    "import numpy as np\n",
    "import matplotlib.pyplot as plt\n",
    "from sklearn.linear_model import LinearRegression\n",
    "\n",
    "np.random.seed(seed=0)\n",
    "\n",
    "X = np.array([3.3,4.4,5.5,6.71,6.93,4.168,9.779,6.182,7.59,2.167,\n",
    "                         7.042,10.791,5.313,7.997,5.654,9.27,3.1])\n",
    "Y = np.array([1.7,2.76,2.09,3.19,1.694,1.573,3.366,2.596,2.53,1.221,\n",
    "                         2.827,3.465,1.65,2.904,2.42,2.94,1.3]) \n"
   ]
  },
  {
   "cell_type": "code",
   "execution_count": 8,
   "metadata": {},
   "outputs": [
    {
     "name": "stdout",
     "output_type": "stream",
     "text": [
      "[0.25163494 0.79880123]\n"
     ]
    },
    {
     "data": {
      "image/png": "[encoded data removed]",
      "text/plain": [
       "<Figure size 432x288 with 1 Axes>"
      ]
     },
     "metadata": {
      "needs_background": "light"
     },
     "output_type": "display_data"
    }
   ],
   "source": [
    "plt.scatter(X, Y)\n",
    "# print(np.polyfit(X, Y, 1))\n",
    "# print(np.poly1d(np.polyfit(X, Y, 1)))\n",
    "# print(np.unique(X))\n",
    "# plt.plot(np.unique(X), np.poly1d(np.polyfit(X, Y, 1))(np.unique(X)), color='red', linewidth=5)\n",
    "# plt.show()\n",
    "\n",
    "# predicted_y_values = map()"
   ]
  },
  {
   "cell_type": "code",
   "execution_count": 12,
   "metadata": {},
   "outputs": [
    {
     "data": {
      "image/png": "[encoded data removed]",
      "text/plain": [
       "<Figure size 432x288 with 1 Axes>"
      ]
     },
     "metadata": {
      "needs_background": "light"
     },
     "output_type": "display_data"
    },
    {
     "name": "stdout",
     "output_type": "stream",
     "text": [
      "6.518593101764703\n"
     ]
    }
   ],
   "source": [
    "# The best line- is one where the distance predicted point to the actual \n",
    "# points is the least for all of the points together.\n",
    "M = sum(Y)/sum(X)\n",
    "predicted_y_values = list(map(lambda x: 0.7*x + 0.3, X))\n",
    "plt.scatter(X, Y)\n",
    "plt.plot(X, predicted_y_values)\n",
    "\n",
    "error = sum([ (i-j)**2 for i, j in zip(Y, predicted_y_values) ]) / len(Y)\n",
    "\n",
    "plt.show()\n",
    "print(error)"
   ]
  },
  {
   "cell_type": "markdown",
   "metadata": {},
   "source": [
    "# How to obtain the best value"
   ]
  },
  {
   "cell_type": "code",
   "execution_count": 9,
   "metadata": {},
   "outputs": [
    {
     "name": "stdout",
     "output_type": "stream",
     "text": [
      "[0.25163494 0.79880123]\n"
     ]
    }
   ],
   "source": [
    "print(np.polyfit(X, Y, 1))\n",
    "# order one here is the exponent of the function so its straight line\n",
    "# if it is 2 it parabola, 3 is hyperbola and so on\n",
    "# [0.25163494 0.79880123] = [weight, constant]"
   ]
  },
  {
   "cell_type": "code",
   "execution_count": 13,
   "metadata": {},
   "outputs": [
    {
     "data": {
      "image/png": "[encoded data removed]",
      "text/plain": [
       "<Figure size 432x288 with 1 Axes>"
      ]
     },
     "metadata": {
      "needs_background": "light"
     },
     "output_type": "display_data"
    },
    {
     "name": "stdout",
     "output_type": "stream",
     "text": [
      "0.15423276838235286\n"
     ]
    }
   ],
   "source": [
    "predicted_y_values = list(map(lambda x: 0.25*x + 0.79, X))\n",
    "plt.scatter(X, Y)\n",
    "plt.plot(X, predicted_y_values)\n",
    "\n",
    "error = sum([ (i-j)**2 for i, j in zip(Y, predicted_y_values) ]) / len(Y)\n",
    "\n",
    "plt.show()\n",
    "print(error)"
   ]
  },
  {
   "cell_type": "code",
   "execution_count": 15,
   "metadata": {},
   "outputs": [
    {
     "name": "stdout",
     "output_type": "stream",
     "text": [
      "2.04\n"
     ]
    }
   ],
   "source": [
    "five_miles_water = 0.25 * 5 + 0.79\n",
    "print(five_miles_water)"
   ]
  },
  {
   "cell_type": "code",
   "execution_count": 16,
   "metadata": {},
   "outputs": [
    {
     "name": "stdout",
     "output_type": "stream",
     "text": [
      "[[0.25163494]]\n",
      "[0.79880123]\n"
     ]
    }
   ],
   "source": [
    "lr_reg = LinearRegression()\n",
    "lr_reg.fit(X.reshape(-1, 1), Y.reshape(-1, 1))\n",
    "# reshape will provide better frame to pass for sklearn as a 2D array parameter\n",
    "print(lr_reg.coef_)\n",
    "print(lr_reg.intercept_)"
   ]
  },
  {
   "cell_type": "code",
   "execution_count": 19,
   "metadata": {},
   "outputs": [
    {
     "name": "stdout",
     "output_type": "stream",
     "text": [
      "2.9388893694594067\n",
      "[ 0.04576465  0.18853002 -0.00103749]\n",
      "[12.20266701]\n"
     ]
    }
   ],
   "source": []
  },
  {
   "cell_type": "code",
   "execution_count": null,
   "metadata": {},
   "outputs": [],
   "source": []
  }
 ],
 "metadata": {
  "kernelspec": {
   "display_name": "Python 3",
   "language": "python",
   "name": "python3"
  },
  "language_info": {
   "codemirror_mode": {
    "name": "ipython",
    "version": 3
   },
   "file_extension": ".py",
   "mimetype": "text/x-python",
   "name": "python",
   "nbconvert_exporter": "python",
   "pygments_lexer": "ipython3",
   "version": "3.7.1"
  }
 },
 "nbformat": 4,
 "nbformat_minor": 2
}
