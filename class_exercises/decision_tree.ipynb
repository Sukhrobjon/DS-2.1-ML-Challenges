{
 "cells": [
  {
   "cell_type": "markdown",
   "metadata": {},
   "source": [
    "# Decision Tree\n",
    "---"
   ]
  },
  {
   "cell_type": "markdown",
   "metadata": {},
   "source": [
    "# Decision Tree\n",
    "- Decision Trees are considered one of the most mature, traditional algorithms in predictive analytics\n",
    "- They are most likely used for classification problems\n",
    "\n",
    "# Why and where we need Decision Tree ?\n",
    "- When features are Categorical\n",
    "# Practical Examples of Decision Tree\n",
    "- You’ll take a small dataset and see if you can learn anything from it\n",
    "\n",
    "- You’ll see if a decision tree can give you any insight as to how the eye doctor prescribes contact lenses\n",
    "\n",
    "- You can predict the type of lenses people will use and understand the underlying processes with a decision tree\n",
    "\n",
    "- Predict does a player plays tennis outside based on weather conditions"
   ]
  },
  {
   "cell_type": "markdown",
   "metadata": {},
   "source": [
    "# Lens Dataset"
   ]
  },
  {
   "cell_type": "markdown",
   "metadata": {},
   "source": [
    "# Attribute Information:\n",
    "\n",
    "- 3 Classes\n",
    "\n",
    "- 1 : the patient should be fitted with hard contact lenses,\n",
    "\n",
    "- 2 : the patient should be fitted with soft contact lenses,\n",
    "\n",
    "- 3 : the patient should not be fitted with contact lenses.\n",
    "\n",
    "# 4 Features\n",
    "\n",
    "- age of the patient: (1) young, (2) pre-presbyopic, (3) presbyopic\n",
    "\n",
    "- spectacle prescription: (1) myope, (2) hypermetrope\n",
    "\n",
    "- astigmatic: (1) no, (2) yes\n",
    "\n",
    "- tear production rate: (1) reduced, (2) normal\n",
    "\n"
   ]
  },
  {
   "cell_type": "code",
   "execution_count": 2,
   "metadata": {},
   "outputs": [],
   "source": [
    "# How to choose the root Node?"
   ]
  },
  {
   "cell_type": "markdown",
   "metadata": {},
   "source": [
    "# The root and the leafs for Decision Tree are obtained based on\n",
    "- Conditional Probability\n",
    "\n",
    "- Entropy\n",
    "\n",
    "- Information Gain"
   ]
  },
  {
   "cell_type": "markdown",
   "metadata": {},
   "source": [
    "# Calcualte the entropy for fair coin.\n",
    "1. We can formally quantify uncertainty measure: \n",
    "    Entropy(coin = )"
   ]
  },
  {
   "cell_type": "code",
   "execution_count": 4,
   "metadata": {},
   "outputs": [],
   "source": [
    "import numpy as np\n",
    "p1 = [0.5, 0.5]\n",
    "p2 = [0.9, 0.1]\n",
    "p3 = [0.1, 0.9]\n",
    "\n",
    "def calculate_entropy(case):\n",
    "    total = 0\n",
    "    for value in case:\n",
    "        total += value * np.log2(value)\n",
    "    return total * -1"
   ]
  },
  {
   "cell_type": "code",
   "execution_count": 6,
   "metadata": {},
   "outputs": [
    {
     "name": "stdout",
     "output_type": "stream",
     "text": [
      "1.0\n",
      "0.4689955935892812\n",
      "0.4689955935892812\n"
     ]
    }
   ],
   "source": [
    "print(calculate_entropy(p1))\n",
    "print(calculate_entropy(p2))\n",
    "print(calculate_entropy(p3))"
   ]
  },
  {
   "cell_type": "code",
   "execution_count": 7,
   "metadata": {},
   "outputs": [
    {
     "data": {
      "text/plain": [
       "1.0"
      ]
     },
     "execution_count": 7,
     "metadata": {},
     "output_type": "execute_result"
    }
   ],
   "source": [
    "# Milad's version:\n",
    "def entropy(p):\n",
    "    H = np.array([-i*np.log2(i) for i in p]).sum()\n",
    "    return H\n",
    "    \n",
    "p = [.5, .5]\n",
    "entropy(p)"
   ]
  },
  {
   "cell_type": "code",
   "execution_count": null,
   "metadata": {},
   "outputs": [],
   "source": []
  }
 ],
 "metadata": {
  "kernelspec": {
   "display_name": "Python 3",
   "language": "python",
   "name": "python3"
  },
  "language_info": {
   "codemirror_mode": {
    "name": "ipython",
    "version": 3
   },
   "file_extension": ".py",
   "mimetype": "text/x-python",
   "name": "python",
   "nbconvert_exporter": "python",
   "pygments_lexer": "ipython3",
   "version": "3.7.1"
  }
 },
 "nbformat": 4,
 "nbformat_minor": 2
}
